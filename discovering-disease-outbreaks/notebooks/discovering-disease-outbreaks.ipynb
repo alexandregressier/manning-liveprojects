{
 "cells": [
  {
   "cell_type": "markdown",
   "metadata": {
    "collapsed": true,
    "pycharm": {
     "name": "#%% md\n"
    }
   },
   "source": [
    "# Discovering Disease Outbreaks from News Headlines"
   ]
  },
  {
   "cell_type": "code",
   "execution_count": 1,
   "outputs": [],
   "source": [
    "import geonamescache\n",
    "import re\n",
    "from unidecode import unidecode\n",
    "import pandas as pd"
   ],
   "metadata": {
    "collapsed": false,
    "pycharm": {
     "name": "#%%\n"
    }
   }
  },
  {
   "cell_type": "markdown",
   "source": [
    "## 1. Extracting City and Country Information from News Headlines"
   ],
   "metadata": {
    "collapsed": false,
    "pycharm": {
     "name": "#%% md\n"
    }
   }
  },
  {
   "cell_type": "code",
   "execution_count": 2,
   "outputs": [],
   "source": [
    "gc = geonamescache.GeonamesCache()"
   ],
   "metadata": {
    "collapsed": false,
    "pycharm": {
     "name": "#%%\n"
    }
   }
  },
  {
   "cell_type": "code",
   "execution_count": 3,
   "outputs": [],
   "source": [
    "def to_regex(name):\n",
    "    return re.compile(fr'\\b{name}\\b', flags=re.IGNORECASE)"
   ],
   "metadata": {
    "collapsed": false,
    "pycharm": {
     "name": "#%%\n"
    }
   }
  },
  {
   "cell_type": "code",
   "execution_count": 4,
   "outputs": [],
   "source": [
    "cities = [city['name'] for city in gc.get_cities().values()]\n",
    "city_by_regex = {to_regex(name): name for name in cities}"
   ],
   "metadata": {
    "collapsed": false,
    "pycharm": {
     "name": "#%%\n"
    }
   }
  },
  {
   "cell_type": "code",
   "execution_count": 5,
   "outputs": [],
   "source": [
    "countries = [country['name'] for country in gc.get_countries().values()]\n",
    "country_by_regex = {to_regex(name): name for name in countries}"
   ],
   "metadata": {
    "collapsed": false,
    "pycharm": {
     "name": "#%%\n"
    }
   }
  },
  {
   "cell_type": "code",
   "execution_count": 6,
   "outputs": [],
   "source": [
    "headlinesFile = open('../data/headlines.txt')"
   ],
   "metadata": {
    "collapsed": false,
    "pycharm": {
     "name": "#%%\n"
    }
   }
  },
  {
   "cell_type": "code",
   "execution_count": 7,
   "outputs": [],
   "source": [
    "headlines = [unidecode(headline.strip()) for headline in headlinesFile.readlines()]"
   ],
   "metadata": {
    "collapsed": false,
    "pycharm": {
     "name": "#%%\n"
    }
   }
  },
  {
   "cell_type": "code",
   "execution_count": 8,
   "outputs": [],
   "source": [
    "headlinesFile.close()"
   ],
   "metadata": {
    "collapsed": false,
    "pycharm": {
     "name": "#%%\n"
    }
   }
  },
  {
   "cell_type": "code",
   "execution_count": 9,
   "outputs": [],
   "source": [
    "def find_name_in_line(line, name_by_regex):\n",
    "    for regex, name in sorted(name_by_regex.items(), key=lambda x: x[1]):\n",
    "        if regex.search(line):\n",
    "            return name\n",
    "    return None"
   ],
   "metadata": {
    "collapsed": false,
    "pycharm": {
     "name": "#%%\n"
    }
   }
  },
  {
   "cell_type": "code",
   "execution_count": 10,
   "outputs": [],
   "source": [
    "df = pd.DataFrame({\n",
    "    'headline': headlines,\n",
    "    'city':     [find_name_in_line(headline, city_by_regex)    for headline in headlines],\n",
    "    'country':  [find_name_in_line(headline, country_by_regex) for headline in headlines],\n",
    "})"
   ],
   "metadata": {
    "collapsed": false,
    "pycharm": {
     "name": "#%%\n"
    }
   }
  },
  {
   "cell_type": "code",
   "execution_count": 11,
   "outputs": [
    {
     "data": {
      "text/plain": "                                  headline           city country\n0                 Zika Outbreak Hits Miami          Miami    None\n1          Could Zika Reach New York City?  New York City    None\n2        First Case of Zika in Miami Beach          Miami    None\n3  Mystery Virus Spreads in Recife, Brazil         Recife  Brazil\n4  Dallas man comes down with case of Zika         Dallas    None",
      "text/html": "<div>\n<style scoped>\n    .dataframe tbody tr th:only-of-type {\n        vertical-align: middle;\n    }\n\n    .dataframe tbody tr th {\n        vertical-align: top;\n    }\n\n    .dataframe thead th {\n        text-align: right;\n    }\n</style>\n<table border=\"1\" class=\"dataframe\">\n  <thead>\n    <tr style=\"text-align: right;\">\n      <th></th>\n      <th>headline</th>\n      <th>city</th>\n      <th>country</th>\n    </tr>\n  </thead>\n  <tbody>\n    <tr>\n      <th>0</th>\n      <td>Zika Outbreak Hits Miami</td>\n      <td>Miami</td>\n      <td>None</td>\n    </tr>\n    <tr>\n      <th>1</th>\n      <td>Could Zika Reach New York City?</td>\n      <td>New York City</td>\n      <td>None</td>\n    </tr>\n    <tr>\n      <th>2</th>\n      <td>First Case of Zika in Miami Beach</td>\n      <td>Miami</td>\n      <td>None</td>\n    </tr>\n    <tr>\n      <th>3</th>\n      <td>Mystery Virus Spreads in Recife, Brazil</td>\n      <td>Recife</td>\n      <td>Brazil</td>\n    </tr>\n    <tr>\n      <th>4</th>\n      <td>Dallas man comes down with case of Zika</td>\n      <td>Dallas</td>\n      <td>None</td>\n    </tr>\n  </tbody>\n</table>\n</div>"
     },
     "execution_count": 11,
     "metadata": {},
     "output_type": "execute_result"
    }
   ],
   "source": [
    "df.head()"
   ],
   "metadata": {
    "collapsed": false,
    "pycharm": {
     "name": "#%%\n"
    }
   }
  },
  {
   "cell_type": "code",
   "execution_count": 12,
   "outputs": [],
   "source": [
    "df.to_pickle('../data/df.pkl')\n"
   ],
   "metadata": {
    "collapsed": false,
    "pycharm": {
     "name": "#%%\n"
    }
   }
  }
 ],
 "metadata": {
  "kernelspec": {
   "display_name": "Python 3",
   "language": "python",
   "name": "python3"
  },
  "language_info": {
   "codemirror_mode": {
    "name": "ipython",
    "version": 2
   },
   "file_extension": ".py",
   "mimetype": "text/x-python",
   "name": "python",
   "nbconvert_exporter": "python",
   "pygments_lexer": "ipython2",
   "version": "2.7.6"
  }
 },
 "nbformat": 4,
 "nbformat_minor": 0
}
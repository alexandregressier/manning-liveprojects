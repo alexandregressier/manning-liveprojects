{
 "cells": [
  {
   "cell_type": "markdown",
   "metadata": {
    "collapsed": true,
    "pycharm": {
     "name": "#%% md\n"
    }
   },
   "source": [
    "# Decoding Data Science Job Postings to Improve Your Resume"
   ]
  },
  {
   "cell_type": "markdown",
   "source": [
    "First of all, we import the required Python modules."
   ],
   "metadata": {
    "collapsed": false
   }
  },
  {
   "cell_type": "code",
   "execution_count": 1,
   "outputs": [],
   "source": [
    "from zipfile import ZipFile\n",
    "from bs4 import BeautifulSoup as bs\n",
    "import pandas as pd\n",
    "import re"
   ],
   "metadata": {
    "collapsed": false,
    "pycharm": {
     "name": "#%%\n"
    }
   }
  },
  {
   "cell_type": "markdown",
   "source": [
    "## 1. Extracting Text from Online Job Postings"
   ],
   "metadata": {
    "collapsed": false,
    "pycharm": {
     "name": "#%% md\n"
    }
   }
  },
  {
   "cell_type": "markdown",
   "source": [
    "We load the ZIP archive containing all the job postings as HTML files."
   ],
   "metadata": {
    "collapsed": false,
    "pycharm": {
     "name": "#%% md\n"
    }
   }
  },
  {
   "cell_type": "code",
   "execution_count": 2,
   "outputs": [],
   "source": [
    "zip = ZipFile('../data/html_job_postings.zip')"
   ],
   "metadata": {
    "collapsed": false,
    "pycharm": {
     "name": "#%%\n"
    }
   }
  },
  {
   "cell_type": "markdown",
   "source": [
    "We read each HTML file in order to store its content as a sequence of bytes in an accumulator list."
   ],
   "metadata": {
    "collapsed": false,
    "pycharm": {
     "name": "#%% md\n"
    }
   }
  },
  {
   "cell_type": "code",
   "execution_count": 3,
   "outputs": [],
   "source": [
    "file_contents = []\n",
    "\n",
    "for filename in zip.namelist():\n",
    "    if filename.endswith('.html'):\n",
    "        with zip.open(filename, 'r') as file:\n",
    "            file_contents.append(file.read())"
   ],
   "metadata": {
    "collapsed": false,
    "pycharm": {
     "name": "#%%\n"
    }
   }
  },
  {
   "cell_type": "markdown",
   "source": [
    "We close the ZIP archive since we no longer need it."
   ],
   "metadata": {
    "collapsed": false,
    "pycharm": {
     "name": "#%% md\n"
    }
   }
  },
  {
   "cell_type": "code",
   "execution_count": 4,
   "outputs": [],
   "source": [
    "zip.close()"
   ],
   "metadata": {
    "collapsed": false,
    "pycharm": {
     "name": "#%%\n"
    }
   }
  },
  {
   "cell_type": "markdown",
   "source": [
    "For each file content of HTML files, we parse it and extract the following fields:\n",
    "- The title\n",
    "- The text of the body\n",
    "- The text of each bullet point (as a list)\n",
    "\n",
    "While doing so, we create a data frame with a column for each field, and a row for each file content."
   ],
   "metadata": {
    "collapsed": false,
    "pycharm": {
     "name": "#%% md\n"
    }
   }
  },
  {
   "cell_type": "code",
   "execution_count": 5,
   "outputs": [],
   "source": [
    "ds_df = pd.DataFrame([\n",
    "    [soup.title.text,\n",
    "     soup.body.text,\n",
    "     [li.text for li in soup.find_all('li')]]\n",
    "    for soup in [bs(file_content, 'lxml') for file_content in file_contents]],\n",
    "\n",
    "    columns=['title', 'body', 'bullets']\n",
    ")"
   ],
   "metadata": {
    "collapsed": false,
    "pycharm": {
     "name": "#%%\n"
    }
   }
  },
  {
   "cell_type": "markdown",
   "source": [
    "We delete the list of file contents since we no longer need it."
   ],
   "metadata": {
    "collapsed": false,
    "pycharm": {
     "name": "#%% md\n"
    }
   }
  },
  {
   "cell_type": "code",
   "execution_count": 6,
   "outputs": [],
   "source": [
    "del file_contents"
   ],
   "metadata": {
    "collapsed": false,
    "pycharm": {
     "name": "#%%\n"
    }
   }
  },
  {
   "cell_type": "markdown",
   "source": [
    "Let us peek at the created data frame and see its number of rows."
   ],
   "metadata": {
    "collapsed": false,
    "pycharm": {
     "name": "#%% md\n"
    }
   }
  },
  {
   "cell_type": "code",
   "execution_count": 7,
   "outputs": [
    {
     "data": {
      "text/plain": "                                               title  \\\n0                 Data Engineer - Columbus, GA 31909   \n1                       Data Analyst - St. Louis, MO   \n2                        Data Scientist - Newark, CA   \n3  Patient Care Assistant / PCA - Med/Surg (Fayet...   \n4               Scientific Programmer - Berkeley, CA   \n\n                                                body  \\\n0  Data Engineer - Columbus, GA 31909\\nCelebratin...   \n1  Data Analyst - St. Louis, MO\\nDuties\\nSummary\\...   \n2  Data Scientist - Newark, CA\\nData Scientist\\n\\...   \n3  Patient Care Assistant / PCA - Med/Surg (Fayet...   \n4  Scientific Programmer - Berkeley, CA\\nCaribou ...   \n\n                                             bullets  \n0  [Bachelor’s or Master’s degree in statistics, ...  \n1  [Job family (Series)\\n1501 General Mathematics...  \n2  [ Design, develop, document and maintain machi...  \n3  [Provides all personal care services in accord...  \n4  [Demonstrated proficiency with Python, JavaScr...  ",
      "text/html": "<div>\n<style scoped>\n    .dataframe tbody tr th:only-of-type {\n        vertical-align: middle;\n    }\n\n    .dataframe tbody tr th {\n        vertical-align: top;\n    }\n\n    .dataframe thead th {\n        text-align: right;\n    }\n</style>\n<table border=\"1\" class=\"dataframe\">\n  <thead>\n    <tr style=\"text-align: right;\">\n      <th></th>\n      <th>title</th>\n      <th>body</th>\n      <th>bullets</th>\n    </tr>\n  </thead>\n  <tbody>\n    <tr>\n      <th>0</th>\n      <td>Data Engineer - Columbus, GA 31909</td>\n      <td>Data Engineer - Columbus, GA 31909\\nCelebratin...</td>\n      <td>[Bachelor’s or Master’s degree in statistics, ...</td>\n    </tr>\n    <tr>\n      <th>1</th>\n      <td>Data Analyst - St. Louis, MO</td>\n      <td>Data Analyst - St. Louis, MO\\nDuties\\nSummary\\...</td>\n      <td>[Job family (Series)\\n1501 General Mathematics...</td>\n    </tr>\n    <tr>\n      <th>2</th>\n      <td>Data Scientist - Newark, CA</td>\n      <td>Data Scientist - Newark, CA\\nData Scientist\\n\\...</td>\n      <td>[ Design, develop, document and maintain machi...</td>\n    </tr>\n    <tr>\n      <th>3</th>\n      <td>Patient Care Assistant / PCA - Med/Surg (Fayet...</td>\n      <td>Patient Care Assistant / PCA - Med/Surg (Fayet...</td>\n      <td>[Provides all personal care services in accord...</td>\n    </tr>\n    <tr>\n      <th>4</th>\n      <td>Scientific Programmer - Berkeley, CA</td>\n      <td>Scientific Programmer - Berkeley, CA\\nCaribou ...</td>\n      <td>[Demonstrated proficiency with Python, JavaScr...</td>\n    </tr>\n  </tbody>\n</table>\n</div>"
     },
     "execution_count": 7,
     "metadata": {},
     "output_type": "execute_result"
    }
   ],
   "source": [
    "ds_df.head()"
   ],
   "metadata": {
    "collapsed": false,
    "pycharm": {
     "name": "#%%\n"
    }
   }
  },
  {
   "cell_type": "code",
   "execution_count": 8,
   "outputs": [
    {
     "data": {
      "text/plain": "1337"
     },
     "execution_count": 8,
     "metadata": {},
     "output_type": "execute_result"
    }
   ],
   "source": [
    "len(ds_df.index)"
   ],
   "metadata": {
    "collapsed": false,
    "pycharm": {
     "name": "#%%\n"
    }
   }
  },
  {
   "cell_type": "markdown",
   "source": [
    "We examine a random sample of job postings to ensure the extraction worked as expected."
   ],
   "metadata": {
    "collapsed": false,
    "pycharm": {
     "name": "#%% md\n"
    }
   }
  },
  {
   "cell_type": "code",
   "execution_count": 9,
   "outputs": [
    {
     "name": "stdout",
     "output_type": "stream",
     "text": [
      "# TITLE:\n",
      "Data Scientist (Maplewood, MN) - Maplewood, MN\n",
      "\n",
      "# BODY:\n",
      "Data Scientist (Maplewood, MN) - Maplewood, MN\n",
      "3M is seeking an experienced Data Scientist – Digitization and Advanced Analytics within the Manufacturing and Supply Chain organization located in Maplewood, Minnesota . At 3M, you can apply your talent in bold ways that matter. Here, you go.\n",
      "Job Summary :\n",
      "The person hired for the position of Data Scientist will be developing data and analytics solutions to address business challenges, interact effectively with both the technology teams and the business units, contribute significantly to the vision of our data analytics and data science capabilities. The ideal candidate is passionate about digging into large amounts of data, both known and unknown, structured and unstructured.\n",
      "For additional business group/division/product information, please visit: https://www.3m.com/3M/en_US/manufacturing-us/\n",
      "This position provides an opportunity to transition from other private, public, government or military environments to a 3M career.\n",
      "Primary Responsibilities include but are not limited to the following:\n",
      "Conduct a variety of data analytics such as: predictive modeling, statistics, machine learning, data mining, and other data analysis techniques to extract insights from structured and unstructured data\n",
      "Research and explore data sources, work with data and systems experts to understand the data and what it represents\n",
      "Participate in projects related to machine learning, data mining, signal processing, sensors and electronics and computational statistics\n",
      "Work independently to develop data solutions, understand, break down and explain complex algorithms\n",
      "Use various forecast methods including time series, neural networks and other non-linear methods\n",
      "Implement relevant computational algorithms in software that support 3M business\n",
      "Build strong working relationships and communicate effectively with other engineers and data scientists\n",
      "Basic Qualifications:\n",
      "Possess a Master’s degree or higher in a science or engineering discipline (completed and verified prior to start) from an accredited institution\n",
      "Minimum five (5) years of data analysis experience (e.g. predictive modeling, statistics, machine learning, data mining) in a private, public, government or military environment\n",
      "Experience in programming in Python and/or R\n",
      "Experience in computer or scientific programming\n",
      "Preferred Qualifications:\n",
      "Ph.D. in Data Science, Computer Science, Applied Mathematics, Physics or other directly related field\n",
      "Experience in programming: R, Python, Matlab, C++, Java\n",
      "Experience with machine learning tools including SVM, logistic regression, and random forest\n",
      "Experience with deep learning methods and applications\n",
      "SAP experience\n",
      "SQL experience\n",
      "Experience with big data and big data platforms\n",
      "Solid communication skills\n",
      "Location: Maplewood, MN\n",
      "Travel: May include up to 20% domestic/international\n",
      "Relocation: Is authorized\n",
      "3M is a place where you can collaborate with other curious, creative people. Where your diverse talents, inclusiveness, initiative, and leadership are valued. Where you’ll find challenging opportunities that make your career exciting and rewarding. With a diversity of people, global locations, technologies, and products, 3M is a place to grow and be rewarded for excellence.\n",
      "\n",
      "# BULLETS:\n",
      "- Conduct a variety of data analytics such as: predictive modeling, statistics, machine learning, data mining, and other data analysis techniques to extract insights from structured and unstructured data\n",
      "- Research and explore data sources, work with data and systems experts to understand the data and what it represents\n",
      "- Participate in projects related to machine learning, data mining, signal processing, sensors and electronics and computational statistics\n",
      "- Work independently to develop data solutions, understand, break down and explain complex algorithms\n",
      "- Use various forecast methods including time series, neural networks and other non-linear methods\n",
      "- Implement relevant computational algorithms in software that support 3M business\n",
      "- Build strong working relationships and communicate effectively with other engineers and data scientists\n",
      "- Possess a Master’s degree or higher in a science or engineering discipline (completed and verified prior to start) from an accredited institution\n",
      "- Minimum five (5) years of data analysis experience (e.g. predictive modeling, statistics, machine learning, data mining) in a private, public, government or military environment\n",
      "- Experience in programming in Python and/or R\n",
      "- Experience in computer or scientific programming\n",
      "- Ph.D. in Data Science, Computer Science, Applied Mathematics, Physics or other directly related field\n",
      "- Experience in programming: R, Python, Matlab, C++, Java\n",
      "- Experience with machine learning tools including SVM, logistic regression, and random forest\n",
      "- Experience with deep learning methods and applications\n",
      "- SAP experience\n",
      "- SQL experience\n",
      "- Experience with big data and big data platforms\n",
      "- Solid communication skills\n"
     ]
    }
   ],
   "source": [
    "random_posting = ds_df.sample().iloc[0]\n",
    "\n",
    "print('# Title:'.upper())\n",
    "print(random_posting.title, end='\\n' * 2)\n",
    "\n",
    "print('# Body:'.upper())\n",
    "print(random_posting.body, end='\\n' * 2)\n",
    "\n",
    "print('# Bullets:'.upper())\n",
    "for bullet in random_posting.bullets:\n",
    "    print(f'- {bullet}', end='')"
   ],
   "metadata": {
    "collapsed": false,
    "pycharm": {
     "name": "#%%\n"
    }
   }
  },
  {
   "cell_type": "markdown",
   "source": [
    "Let us drop all duplicates by considering only the title and body fields. The number of rows decreases."
   ],
   "metadata": {
    "collapsed": false,
    "pycharm": {
     "name": "#%% md\n"
    }
   }
  },
  {
   "cell_type": "code",
   "execution_count": 10,
   "outputs": [
    {
     "data": {
      "text/plain": "1328"
     },
     "execution_count": 10,
     "metadata": {},
     "output_type": "execute_result"
    }
   ],
   "source": [
    "ds_df.drop_duplicates(subset=['title', 'body'], inplace=True)\n",
    "len(ds_df.index)"
   ],
   "metadata": {
    "collapsed": false,
    "pycharm": {
     "name": "#%%\n"
    }
   }
  },
  {
   "cell_type": "markdown",
   "source": [
    "We keep only the job postings related to data science by testing if their title contains the character string `\"data\n",
    "scien\"` (case-insensitive). The number of rows decreases."
   ],
   "metadata": {
    "collapsed": false,
    "pycharm": {
     "name": "#%% md\n"
    }
   }
  },
  {
   "cell_type": "code",
   "execution_count": 11,
   "outputs": [
    {
     "data": {
      "text/plain": "492"
     },
     "execution_count": 11,
     "metadata": {},
     "output_type": "execute_result"
    }
   ],
   "source": [
    "ds_df = ds_df[ds_df.title.str.contains('data scien', flags=re.IGNORECASE)]\n",
    "len(ds_df.index)"
   ],
   "metadata": {
    "collapsed": false,
    "pycharm": {
     "name": "#%%\n"
    }
   }
  },
  {
   "cell_type": "markdown",
   "source": [
    "We ensure that data frame contains the expected data science postings."
   ],
   "metadata": {
    "collapsed": false,
    "pycharm": {
     "name": "#%% md\n"
    }
   }
  },
  {
   "cell_type": "code",
   "execution_count": 12,
   "outputs": [
    {
     "data": {
      "text/plain": "                                                title  \\\n2                         Data Scientist - Newark, CA   \n6   PwC Labs - Jr. Data Scientist - Machine Learni...   \n12        Senior Data Scientist - Sunnyvale, CA 94089   \n14                       Data Scientist - Seattle, WA   \n15                Data Scientist - Pasadena, CA 91107   \n\n                                                 body  \\\n2   Data Scientist - Newark, CA\\nData Scientist\\n\\...   \n6   PwC Labs - Jr. Data Scientist - Machine Learni...   \n12  Senior Data Scientist - Sunnyvale, CA 94089\\nI...   \n14  Data Scientist - Seattle, WA\\nMS with 2+ years...   \n15  Data Scientist - Pasadena, CA 91107\\nJob Type:...   \n\n                                              bullets  \n2   [ Design, develop, document and maintain machi...  \n6   [Invite and provide evidence-based feedback in...  \n12  [Ability to mentor and up level junior data sc...  \n14  [MS with 2+ years of industry experience or Ba...  \n15  [Use statistical and programming software comb...  ",
      "text/html": "<div>\n<style scoped>\n    .dataframe tbody tr th:only-of-type {\n        vertical-align: middle;\n    }\n\n    .dataframe tbody tr th {\n        vertical-align: top;\n    }\n\n    .dataframe thead th {\n        text-align: right;\n    }\n</style>\n<table border=\"1\" class=\"dataframe\">\n  <thead>\n    <tr style=\"text-align: right;\">\n      <th></th>\n      <th>title</th>\n      <th>body</th>\n      <th>bullets</th>\n    </tr>\n  </thead>\n  <tbody>\n    <tr>\n      <th>2</th>\n      <td>Data Scientist - Newark, CA</td>\n      <td>Data Scientist - Newark, CA\\nData Scientist\\n\\...</td>\n      <td>[ Design, develop, document and maintain machi...</td>\n    </tr>\n    <tr>\n      <th>6</th>\n      <td>PwC Labs - Jr. Data Scientist - Machine Learni...</td>\n      <td>PwC Labs - Jr. Data Scientist - Machine Learni...</td>\n      <td>[Invite and provide evidence-based feedback in...</td>\n    </tr>\n    <tr>\n      <th>12</th>\n      <td>Senior Data Scientist - Sunnyvale, CA 94089</td>\n      <td>Senior Data Scientist - Sunnyvale, CA 94089\\nI...</td>\n      <td>[Ability to mentor and up level junior data sc...</td>\n    </tr>\n    <tr>\n      <th>14</th>\n      <td>Data Scientist - Seattle, WA</td>\n      <td>Data Scientist - Seattle, WA\\nMS with 2+ years...</td>\n      <td>[MS with 2+ years of industry experience or Ba...</td>\n    </tr>\n    <tr>\n      <th>15</th>\n      <td>Data Scientist - Pasadena, CA 91107</td>\n      <td>Data Scientist - Pasadena, CA 91107\\nJob Type:...</td>\n      <td>[Use statistical and programming software comb...</td>\n    </tr>\n  </tbody>\n</table>\n</div>"
     },
     "execution_count": 12,
     "metadata": {},
     "output_type": "execute_result"
    }
   ],
   "source": [
    "ds_df.head()"
   ],
   "metadata": {
    "collapsed": false,
    "pycharm": {
     "name": "#%%\n"
    }
   }
  },
  {
   "cell_type": "markdown",
   "source": [
    "Finally, we save our data frame to a Pickle file for later reuse."
   ],
   "metadata": {
    "collapsed": false,
    "pycharm": {
     "name": "#%% md\n"
    }
   }
  },
  {
   "cell_type": "code",
   "execution_count": 13,
   "outputs": [],
   "source": [
    "ds_df.to_pickle('../data/ds_df.pkl')\n"
   ],
   "metadata": {
    "collapsed": false,
    "pycharm": {
     "name": "#%%\n"
    }
   }
  }
 ],
 "metadata": {
  "kernelspec": {
   "display_name": "Python 3",
   "language": "python",
   "name": "python3"
  },
  "language_info": {
   "codemirror_mode": {
    "name": "ipython",
    "version": 2
   },
   "file_extension": ".py",
   "mimetype": "text/x-python",
   "name": "python",
   "nbconvert_exporter": "python",
   "pygments_lexer": "ipython2",
   "version": "2.7.6"
  }
 },
 "nbformat": 4,
 "nbformat_minor": 0
}